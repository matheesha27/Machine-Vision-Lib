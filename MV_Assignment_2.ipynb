{
  "nbformat": 4,
  "nbformat_minor": 0,
  "metadata": {
    "colab": {
      "name": "MV_Assignment_2.ipynb",
      "version": "0.3.2",
      "provenance": [],
      "collapsed_sections": [
        "fP7KApztiVWS",
        "yaVFvB6KhAVw",
        "vjZpqnLkhj1E",
        "VLGK0CQYiK_R"
      ]
    },
    "kernelspec": {
      "name": "python3",
      "display_name": "Python 3"
    },
    "accelerator": "GPU"
  },
  "cells": [
    {
      "cell_type": "markdown",
      "metadata": {
        "id": "fP7KApztiVWS",
        "colab_type": "text"
      },
      "source": [
        "#1. SVM in sklearn"
      ]
    },
    {
      "cell_type": "markdown",
      "metadata": {
        "id": "60RaAcMjbJDu",
        "colab_type": "text"
      },
      "source": [
        "Multi-class SVM using sklearn is done in this part for the IRIS dataset. The effect of SVM ragularization parameter (C) and gamma is compared for rbf kernel using a grid search."
      ]
    },
    {
      "cell_type": "code",
      "metadata": {
        "id": "r9-1rAjffFpY",
        "colab_type": "code",
        "colab": {}
      },
      "source": [
        "import numpy as np\n",
        "import matplotlib.pyplot as plt\n",
        "from matplotlib.colors import Normalize\n",
        "\n",
        "from sklearn.svm import SVC\n",
        "from sklearn.datasets import load_iris\n",
        "from sklearn.model_selection import StratifiedShuffleSplit\n",
        "from sklearn.model_selection import GridSearchCV\n",
        "from sklearn.model_selection import train_test_split"
      ],
      "execution_count": 0,
      "outputs": []
    },
    {
      "cell_type": "code",
      "metadata": {
        "id": "7dXsnTGuyBt6",
        "colab_type": "code",
        "outputId": "b11fba28-d22b-4574-c1fc-5a3554f7e13c",
        "colab": {
          "base_uri": "https://localhost:8080/",
          "height": 35
        }
      },
      "source": [
        "# Dataset for grid search\n",
        "iris = load_iris()\n",
        "X = iris.data[:, :2]\n",
        "y = iris.target\n",
        "# Split data\n",
        "X_train, X_test, y_train, y_test = train_test_split(X, y, test_size=0.2, random_state=0, shuffle=True)\n",
        "\n",
        "\n",
        "# Training and getting the best parameters\n",
        "C_range = np.array([0.1, 1, 10, 100, 1000])  # range for parameter C\n",
        "gamma_range = np.array([0.001, 0.01, 0.1, 0.3, 0.5, 0.8, 1])  # range for parameter Gamma\n",
        "\n",
        "param_grid = dict(gamma=gamma_range, C=C_range)\n",
        "cv = StratifiedShuffleSplit(test_size=0.2, random_state=42)\n",
        "grid = GridSearchCV(estimator=SVC(), param_grid=param_grid, cv=cv)\n",
        "grid.fit(X_train, y_train)\n",
        "print(\"The best parameters from Training are %s with a score of %0.4f\"\n",
        "      % (grid.best_params_, grid.best_score_))"
      ],
      "execution_count": 0,
      "outputs": [
        {
          "output_type": "stream",
          "text": [
            "The best parameters from Training are {'C': 10.0, 'gamma': 0.01} with a score of 0.8542\n"
          ],
          "name": "stdout"
        }
      ]
    },
    {
      "cell_type": "markdown",
      "metadata": {
        "id": "GUIeY8SYzyzC",
        "colab_type": "text"
      },
      "source": [
        "Gained the same test accuracy from my code and the SVM function in sklearn."
      ]
    },
    {
      "cell_type": "code",
      "metadata": {
        "id": "jH22iE2hfNan",
        "colab_type": "code",
        "outputId": "96c84a17-4a35-453d-ab80-ea2e84a5d063",
        "colab": {
          "base_uri": "https://localhost:8080/",
          "height": 54
        }
      },
      "source": [
        "# Validating on test data using the best parameters\n",
        "print('Training Accuracy = ', grid.score(X_train, y_train))\n",
        "Test_acc = SVC(C=10, kernel='rbf', gamma=0.1).fit(X_train, y_train).score(X_test, y_test)\n",
        "print('Test Accuracy from scratch 0.1 = ', Test_acc)"
      ],
      "execution_count": 0,
      "outputs": [
        {
          "output_type": "stream",
          "text": [
            "Training Accuracy =  0.85\n",
            "Test Accuracy from scratch 0.1 =  0.7333333333333333\n"
          ],
          "name": "stdout"
        }
      ]
    },
    {
      "cell_type": "markdown",
      "metadata": {
        "id": "msKYFGhOgsFs",
        "colab_type": "text"
      },
      "source": [
        "Generated heatmaps for the grid of values assigned for two parameters."
      ]
    },
    {
      "cell_type": "code",
      "metadata": {
        "id": "kWbY57QKgxpi",
        "colab_type": "code",
        "outputId": "ec4826cd-b379-4370-efb3-f12f10ac76d4",
        "colab": {
          "base_uri": "https://localhost:8080/",
          "height": 755
        }
      },
      "source": [
        "# Utility function to move the midpoint of a colormap to be around\n",
        "# the values of interest.\n",
        "class MidpointNormalize(Normalize):\n",
        "\n",
        "    def __init__(self, vmin=None, vmax=None, midpoint=None, clip=False):\n",
        "        self.midpoint = midpoint\n",
        "        Normalize.__init__(self, vmin, vmax, clip)\n",
        "\n",
        "    def __call__(self, value, clip=None):\n",
        "        x, y = [self.vmin, self.midpoint, self.vmax], [0, 0.5, 1]\n",
        "        return np.ma.masked_array(np.interp(value, x, y))\n",
        "\n",
        "\n",
        "train_scores = np.zeros((5,7))\n",
        "test_scores = np.zeros((5,7))\n",
        "for c in range(len(C_range)):\n",
        "    for gamma in range(len(gamma_range)):\n",
        "        svc = SVC(C=C_range[c], gamma=gamma_range[gamma], kernel='rbf')\n",
        "        svc.fit(X_train, y_train)\n",
        "        train_scores[c, gamma] = svc.score(X_train, y_train)\n",
        "        test_scores[c, gamma] = svc.score(X_test, y_test)\n",
        "\n",
        "\n",
        "# Heatmap for Training Accuracy\n",
        "plt.figure(figsize=(8, 6))\n",
        "plt.subplots_adjust(left=.2, right=0.95, bottom=0.15, top=0.95)\n",
        "plt.imshow(train_scores, interpolation='nearest', cmap=plt.cm.hot,\n",
        "           norm=MidpointNormalize(vmin=0.2, midpoint=0.732))\n",
        "plt.xlabel('Gamma')\n",
        "plt.ylabel('SVM Regularization Parameter (C)')\n",
        "plt.colorbar()\n",
        "plt.xticks(np.arange(len(gamma_range)), gamma_range, rotation=45)\n",
        "plt.yticks(np.arange(len(C_range)), C_range)\n",
        "plt.title('Training Accuracy')\n",
        "plt.show()\n",
        "\n",
        "\n",
        "# Heatmap for Test Accuracy\n",
        "plt.figure(figsize=(8, 6))\n",
        "plt.subplots_adjust(left=.2, right=0.95, bottom=0.15, top=0.95)\n",
        "plt.imshow(test_scores, interpolation='nearest', cmap=plt.cm.hot,\n",
        "           norm=MidpointNormalize(vmin=0.2, midpoint=0.732))\n",
        "plt.xlabel('Gamma')\n",
        "plt.ylabel('SVM Regularization Parameter (C)')\n",
        "plt.colorbar()\n",
        "plt.xticks(np.arange(len(gamma_range)), gamma_range, rotation=45)\n",
        "plt.yticks(np.arange(len(C_range)), C_range)\n",
        "plt.title('Test Accuracy')\n",
        "plt.show()"
      ],
      "execution_count": 0,
      "outputs": [
        {
          "output_type": "display_data",
          "data": {
            "image/png": "[encoded data removed]",
            "text/plain": [
              "<Figure size 576x432 with 2 Axes>"
            ]
          },
          "metadata": {
            "tags": []
          }
        },
        {
          "output_type": "display_data",
          "data": {
            "image/png": "[encoded data removed]",
            "text/plain": [
              "<Figure size 576x432 with 2 Axes>"
            ]
          },
          "metadata": {
            "tags": []
          }
        }
      ]
    },
    {
      "cell_type": "markdown",
      "metadata": {
        "id": "yaVFvB6KhAVw",
        "colab_type": "text"
      },
      "source": [
        "# 2. CIFAR-10 using sklearn"
      ]
    },
    {
      "cell_type": "markdown",
      "metadata": {
        "id": "Jxp29hDpkxT1",
        "colab_type": "text"
      },
      "source": [
        "in this part, a BoVW (Bag of Visual Words) model is built, and used sklearn 's SVM classifier for classification.\n",
        "\n",
        "First, we import the CIFAR dataset."
      ]
    },
    {
      "cell_type": "code",
      "metadata": {
        "id": "PodRR1rXVKKU",
        "colab_type": "code",
        "outputId": "c851188c-8766-48e4-c487-1a9c16d155d3",
        "colab": {
          "base_uri": "https://localhost:8080/",
          "height": 72
        }
      },
      "source": [
        "from keras.datasets import cifar10\n",
        "\n",
        "(x_train, y_train), (x_test, y_test) = cifar10.load_data()"
      ],
      "execution_count": 0,
      "outputs": [
        {
          "output_type": "stream",
          "text": [
            "Using TensorFlow backend.\n"
          ],
          "name": "stderr"
        },
        {
          "output_type": "stream",
          "text": [
            "Downloading data from https://www.cs.toronto.edu/~kriz/cifar-10-python.tar.gz\n",
            "170500096/170498071 [==============================] - 4s 0us/step\n"
          ],
          "name": "stdout"
        }
      ]
    },
    {
      "cell_type": "markdown",
      "metadata": {
        "id": "dM6JDkj_lRyW",
        "colab_type": "text"
      },
      "source": [
        "\n",
        "\n",
        "1.   After creating the training and test datasets, they are converted to grayscale.\n",
        "2.   Then, the SIFT features are extracted using *cv2.xfeatures2d.SIFT_create()*.\n",
        "1.   Those features are then clustered to 50 centers using k-means clustering\n",
        "2.   Created and trained the model using above parameters.\n",
        "\n",
        "\n",
        "\n"
      ]
    },
    {
      "cell_type": "code",
      "metadata": {
        "id": "qA3WPbq93APJ",
        "colab_type": "code",
        "colab": {}
      },
      "source": [
        "import cv2\n",
        "import numpy as np\n",
        "from sklearn import svm\n",
        "from sklearn.cluster import KMeans\n",
        "from keras.datasets import cifar10\n",
        "\n",
        "(X_train, y_train), (X_test, y_test) = cifar10.load_data()\n",
        "\n",
        "# bag of words to identify clusters\n",
        "N = 1000\n",
        "sift_features = np.empty(shape=(0, 128))\n",
        "for img in X_train[:N, :, :, :]:\n",
        "    gray_img = cv2.cvtColor(img, cv2.COLOR_BGR2GRAY) # Convert to grayscale\n",
        "    extractor = cv2.xfeatures2d.SIFT_create()\n",
        "    kp, des = extractor.detectAndCompute(gray_img, None) # Key points and Descriptors\n",
        "    if des is None:\n",
        "        continue\n",
        "    assert des.shape[1] == 128, 'wrong shape'\n",
        "    sift_features = np.concatenate([sift_features, des], axis=0)\n",
        "\n",
        "# kmeans clustering\n",
        "k_means = KMeans(n_clusters=50, random_state=0).fit(sift_features)\n",
        "\n",
        "# prepare train data\n",
        "feature_vectors = np.zeros(shape=(N, 50))\n",
        "for i, img in enumerate(X_train[:N, :, :, :]):\n",
        "    gray = cv2.cvtColor(img, cv2.COLOR_BGR2GRAY)\n",
        "    extractor = cv2.xfeatures2d.SIFT_create()\n",
        "    kp, des = extractor.detectAndCompute(gray, None)\n",
        "    if des is None:\n",
        "        continue\n",
        "    hist = k_means.predict(des)\n",
        "    for val in hist:\n",
        "        feature_vectors[i][val] += 1\n",
        "\n",
        "# prepare test data\n",
        "test_vectors = np.zeros(shape=(N, 50))\n",
        "for i, img in enumerate(X_test[:N, :, :, :]):\n",
        "    gray = cv2.cvtColor(img, cv2.COLOR_BGR2GRAY)\n",
        "    extractor = cv2.xfeatures2d.SIFT_create()\n",
        "    kp, des = extractor.detectAndCompute(gray, None)\n",
        "    if des is None:\n",
        "        continue\n",
        "    hist = k_means.predict(des)\n",
        "    for val in hist:\n",
        "        test_vectors[i][val] += 1\n",
        "\n",
        "# run experiment\n",
        "labels = y_train[:N, 0]\n",
        "test_labels = y_test[:N, 0]\n",
        "model = svm.SVC(\n",
        "                kernel='rbf',\n",
        "                C=10,\n",
        "                gamma=0.01\n",
        "            )\n",
        "model = model.fit(feature_vectors, labels)\n",
        "\n",
        "train_accuracy = model.score(feature_vectors, labels)\n",
        "test_accuracy = model.score(test_vectors, test_labels)\n",
        "print(\"train_accuracy: {} \\n test_accuracy: {}\".format(train_accuracy, test_accuracy))"
      ],
      "execution_count": 0,
      "outputs": []
    },
    {
      "cell_type": "markdown",
      "metadata": {
        "id": "6uJk3ZrF3STh",
        "colab_type": "text"
      },
      "source": [
        "A very low train and test accuracy were encountered when the dataset was scaled prior finding the SIFT features.\n",
        "\n",
        "Training Acc = 57.2%\n",
        "Test Acc = 21.4%"
      ]
    },
    {
      "cell_type": "markdown",
      "metadata": {
        "id": "vjZpqnLkhj1E",
        "colab_type": "text"
      },
      "source": [
        "# 3. CVXOPT"
      ]
    },
    {
      "cell_type": "markdown",
      "metadata": {
        "id": "zKwxWKgFhz0Q",
        "colab_type": "text"
      },
      "source": [
        "Function *qp* is an interface for quadratic programs. *cvxopt.solvers.qp()* solves the pair of primal and dual convex quadratic programs. More details are illustrated in the report."
      ]
    },
    {
      "cell_type": "code",
      "metadata": {
        "id": "uc8OmPCXCECy",
        "colab_type": "code",
        "colab": {}
      },
      "source": [
        "import cvxopt\n",
        "import cvxopt.solvers\n",
        "import numpy as np\n",
        "from numpy import linalg\n",
        "from sklearn import datasets\n",
        "from sklearn.metrics import accuracy_score\n",
        "from sklearn.model_selection import train_test_split\n",
        "\n",
        "\n",
        "def linear_kernel(x1, x2, _=None):\n",
        "    return np.dot(x1, x2)\n",
        "\n",
        "\n",
        "def polynomial_kernel(x, y, p=3):\n",
        "    return (1 + np.dot(x, y)) ** p\n",
        "\n",
        "\n",
        "def rbf_kernel(x, y, gamma=0.01):\n",
        "    return np.exp((-linalg.norm(x - y) ** 2) * gamma)\n",
        "\n",
        "\n",
        "KERNEL_DICT = {\n",
        "    \"linear\": linear_kernel,\n",
        "    \"poly\": polynomial_kernel,\n",
        "    \"rbf\": rbf_kernel\n",
        "}\n",
        "\n",
        "\n",
        "class SVM(object):\n",
        "\n",
        "    def __init__(self, kernel='rbf', c=None, param=None, verbose=False):\n",
        "        \"\"\"\n",
        "        Initialize SVM Object\n",
        "        :param kernel:          str (linear / poly / rbf)\n",
        "        :param c:               regularization term\n",
        "        :param verbose:         print to console\n",
        "        :param param:           gamma / polynomial degree parameter\n",
        "        \"\"\"\n",
        "        self.kernel = KERNEL_DICT[kernel]\n",
        "        self.C = c\n",
        "        self.param = param\n",
        "        self.verbose = verbose\n",
        "        if not verbose:\n",
        "            cvxopt.solvers.options['show_progress'] = False\n",
        "\n",
        "        self.a = None\n",
        "        self.sv = None\n",
        "        self.sv_y = None\n",
        "        self.w = None\n",
        "        self.b = None\n",
        "\n",
        "    def fit(self, x, y):\n",
        "        \"\"\"\n",
        "        Fitting function\n",
        "        :param x:       array of shape (num_examples, num_dims)\n",
        "        :param y:       array of shape (num_examples, )\n",
        "        :return:        No return\n",
        "        \"\"\"\n",
        "        n_samples, n_features = x.shape\n",
        "\n",
        "        # Gram matrix\n",
        "        k_mat = np.zeros((n_samples, n_samples))\n",
        "        for i in range(n_samples):\n",
        "            for j in range(n_samples):\n",
        "                k_mat[i, j] = self.kernel(x[i], x[j], self.param)\n",
        "\n",
        "        _P = cvxopt.matrix(np.outer(y, y) * k_mat)\n",
        "        _q = cvxopt.matrix(np.ones(n_samples) * -1)\n",
        "        _A = cvxopt.matrix(y, (1, n_samples), tc='d')\n",
        "        _b = cvxopt.matrix(0.0)\n",
        "\n",
        "        if self.C is None:\n",
        "            _G = cvxopt.matrix(np.diag(np.ones(n_samples) * -1))\n",
        "            _h = cvxopt.matrix(np.zeros(n_samples))\n",
        "        else:\n",
        "            tmp1 = - np.identity(n_samples)\n",
        "            tmp2 = np.identity(n_samples)\n",
        "            _G = cvxopt.matrix(np.vstack((tmp1, tmp2)))\n",
        "            tmp1 = np.zeros(n_samples)\n",
        "            tmp2 = np.ones(n_samples) * self.C\n",
        "            _h = cvxopt.matrix(np.hstack((tmp1, tmp2)))\n",
        "\n",
        "        # solve QP problem\n",
        "        solution = cvxopt.solvers.qp(_P, _q, _G, _h, _A, _b)\n",
        "\n",
        "        # Lagrange multipliers\n",
        "        a = np.ravel(solution['x'])\n",
        "\n",
        "        # Support vectors have non zero lagrange multipliers\n",
        "        sv = a > 1e-5\n",
        "        ind = np.arange(len(a))[sv]\n",
        "        self.a = a[sv]\n",
        "        self.sv = x[sv]\n",
        "        self.sv_y = y[sv]\n",
        "        if self.verbose:\n",
        "            print(\"%d support vectors out of %d points\" % (len(self.a), n_samples))\n",
        "\n",
        "        # Intercept\n",
        "        self.b = 0\n",
        "        for n in range(len(self.a)):\n",
        "            self.b += self.sv_y[n]\n",
        "            self.b -= np.sum(self.a * self.sv_y * k_mat[ind[n], sv])\n",
        "        self.b /= len(self.a)\n",
        "\n",
        "        # Weight vector\n",
        "        if self.kernel == linear_kernel:\n",
        "            self.w = np.zeros(n_features)\n",
        "            for n in range(len(self.a)):\n",
        "                self.w += self.a[n] * self.sv_y[n] * self.sv[n]\n",
        "        else:\n",
        "            self.w = None\n",
        "\n",
        "    def project(self, x):\n",
        "        \"\"\"\n",
        "        Helper for predict. Same input as predict.\n",
        "        :param x:       array of shape (num_examples, num_dims)\n",
        "        :return:        array of shape (num_examples, )\n",
        "        \"\"\"\n",
        "        if self.w is not None:\n",
        "            return np.dot(x, self.w) + self.b\n",
        "        else:\n",
        "            y_predict = np.zeros(len(x))\n",
        "            for i in range(len(x)):\n",
        "                s = 0\n",
        "                for a, sv_y, sv in zip(self.a, self.sv_y, self.sv):\n",
        "                    s += a * sv_y * self.kernel(x[i], sv)\n",
        "                y_predict[i] = s\n",
        "            return y_predict + self.b\n",
        "\n",
        "    def predict(self, x):\n",
        "        \"\"\"\n",
        "        Predict function\n",
        "        :param x:       array of shape (num_examples, num_dims)\n",
        "        :return:        array of shape (num_examples, )\n",
        "        \"\"\"\n",
        "        return np.sign(self.project(x))\n",
        "\n",
        "\n",
        "class MultiClassSVM:\n",
        "\n",
        "    def __init__(self, kernel='rbf', c=None, param=None, verbose=False):\n",
        "        \"\"\"\n",
        "        Initialize SVM Object\n",
        "        :param kernel:          str (linear / poly / rbf)\n",
        "        :param c:               regularization term\n",
        "        :param param:           gamma / polynomial degree parameter\n",
        "        \"\"\"\n",
        "        self.kernel = kernel\n",
        "        self.C = c\n",
        "        self.param = param\n",
        "        self.verbose = verbose\n",
        "        self.classifiers = []\n",
        "        self.classes = None\n",
        "\n",
        "    def fit(self, x, y):\n",
        "        \"\"\"\n",
        "\n",
        "        :param x:       array of shape (num_examples, num_dims)\n",
        "        :param y:       array of shape (num_examples, )\n",
        "        :return:        No return\n",
        "        \"\"\"\n",
        "        self.classes = np.unique(y)\n",
        "        for class_id in self.classes:\n",
        "            classifier = SVM(kernel=self.kernel, c=self.C, param=self.param, verbose=self.verbose)\n",
        "            y_ = ((y == class_id).astype(float) - 0.5) * 2\n",
        "            classifier.fit(x, y_)\n",
        "            self.classifiers.append(classifier)\n",
        "\n",
        "    def predict(self, x):\n",
        "        \"\"\"\n",
        "        Predict function\n",
        "        :param x:       array of shape (num_examples, num_dims)\n",
        "        :return:        array of shape (num_examples, )\n",
        "        \"\"\"\n",
        "        assert len(self.classifiers) > 0, \"run fit before prediction\"\n",
        "        scores = np.empty(shape=(x.shape[0], len(self.classifiers)))  # num_examples, num_classes\n",
        "        for i, classifier in enumerate(self.classifiers):\n",
        "            score = classifier.project(x)\n",
        "            scores[:, i] = score\n",
        "        return np.argmax(scores, axis=1)"
      ],
      "execution_count": 0,
      "outputs": []
    },
    {
      "cell_type": "markdown",
      "metadata": {
        "id": "tkxWEPN3fgLg",
        "colab_type": "text"
      },
      "source": [
        "Now, lets play with iris dataset (first two features)."
      ]
    },
    {
      "cell_type": "code",
      "metadata": {
        "id": "WV9C6VEfs-Lt",
        "colab_type": "code",
        "outputId": "af48c031-77c5-4ec4-b118-12dd8da43072",
        "colab": {
          "base_uri": "https://localhost:8080/",
          "height": 54
        }
      },
      "source": [
        "iris = datasets.load_iris()\n",
        "X = iris.data[:, :2]\n",
        "Y = iris.target\n",
        "\n",
        "x_train, x_test, y_train, y_test = train_test_split(X, Y, test_size=0.2, random_state=0, shuffle=True)\n",
        "\n",
        "clf = MultiClassSVM(c=10, param=0.01)\n",
        "clf.fit(x_train, y_train)\n",
        "train_pred = clf.predict(x_train)\n",
        "test_pred = clf.predict(x_test)\n",
        "\n",
        "train_acc = accuracy_score(y_true=y_train, y_pred=train_pred)\n",
        "test_acc = accuracy_score(y_true=y_test, y_pred=test_pred)\n",
        "\n",
        "print(\"train_accuracy: {} \\n test_accuracy: {}\".format(train_acc, test_acc))"
      ],
      "execution_count": 0,
      "outputs": [
        {
          "output_type": "stream",
          "text": [
            "train_accuracy: 0.825 \n",
            " test_accuracy: 0.7\n"
          ],
          "name": "stdout"
        }
      ]
    },
    {
      "cell_type": "markdown",
      "metadata": {
        "id": "TgjygYB_91Wd",
        "colab_type": "text"
      },
      "source": [
        "In part 1 we got a training accuracy of 0.8583 and a test accuracy of 0.7333. Considerably similar results are obtained in question 3 using convex optimization (cvxopt)."
      ]
    },
    {
      "cell_type": "markdown",
      "metadata": {
        "id": "VLGK0CQYiK_R",
        "colab_type": "text"
      },
      "source": [
        "# 4. Two-Layer NN on TenforFlow"
      ]
    },
    {
      "cell_type": "markdown",
      "metadata": {
        "id": "TP8r5bUfjOZr",
        "colab_type": "text"
      },
      "source": [
        "A two-layer Neural Network on using TensorFlow."
      ]
    },
    {
      "cell_type": "code",
      "metadata": {
        "id": "qNlNLMFJAwcy",
        "colab_type": "code",
        "outputId": "4fa4243f-26ae-45f4-dd31-7577e158c333",
        "colab": {
          "base_uri": "https://localhost:8080/",
          "height": 643
        }
      },
      "source": [
        "import keras\n",
        "from keras.datasets import cifar10\n",
        "from keras.models import Sequential\n",
        "from keras.layers import Dense, Dropout, Activation, Flatten\n",
        "\n",
        "batch_size = 32\n",
        "num_classes = 10\n",
        "epochs = 10\n",
        "\n",
        "# The data, split between train and test sets:\n",
        "(x_train, y_train), (x_test, y_test) = cifar10.load_data()\n",
        "print('x_train shape: ', x_train.shape)\n",
        "print(x_train.shape[0], 'train samples')\n",
        "print(x_test.shape[0], 'test samples')\n",
        "\n",
        "# Convert class vectors to binary class matrices.\n",
        "y_train = keras.utils.to_categorical(y_train, num_classes)\n",
        "\n",
        "y_test = keras.utils.to_categorical(y_test, num_classes)\n",
        "model = Sequential()\n",
        "model.add(Flatten())\n",
        "model.add(Dense(512))\n",
        "model.add(Activation('relu'))\n",
        "model.add(Dense(num_classes))\n",
        "model.add(Activation('softmax'))\n",
        "\n",
        "# initiate RMSprop optimizer\n",
        "opt = keras.optimizers.rmsprop(lr=0.0001, decay=1e-6)\n",
        "\n",
        "# Let's train the model using RMSprop\n",
        "model.compile(loss='categorical_crossentropy', optimizer=opt, metrics=['accuracy'])\n",
        "x_train = x_train.astype('float32')\n",
        "x_test = x_test.astype('float32')\n",
        "x_train /= 255 # scaling\n",
        "x_test /= 255\n",
        "\n",
        "model.fit(x_train, y_train, batch_size=batch_size, epochs=epochs, validation_data=(x_test, y_test), shuffle=True)\n",
        "\n",
        "# Score trained model.\n",
        "scores = model.evaluate(x_test, y_test, verbose=1)\n",
        "print('Test loss: ', scores[0])\n",
        "print('Test accuracy: ', scores[1])"
      ],
      "execution_count": 0,
      "outputs": [
        {
          "output_type": "stream",
          "text": [
            "x_train shape:  (50000, 32, 32, 3)\n",
            "50000 train samples\n",
            "10000 test samples\n",
            "WARNING:tensorflow:From /usr/local/lib/python3.6/dist-packages/tensorflow/python/framework/op_def_library.py:263: colocate_with (from tensorflow.python.framework.ops) is deprecated and will be removed in a future version.\n",
            "Instructions for updating:\n",
            "Colocations handled automatically by placer.\n",
            "WARNING:tensorflow:From /usr/local/lib/python3.6/dist-packages/tensorflow/python/ops/math_ops.py:3066: to_int32 (from tensorflow.python.ops.math_ops) is deprecated and will be removed in a future version.\n",
            "Instructions for updating:\n",
            "Use tf.cast instead.\n",
            "Train on 50000 samples, validate on 10000 samples\n",
            "Epoch 1/10\n",
            "50000/50000 [==============================] - 9s 178us/step - loss: 1.8744 - acc: 0.3304 - val_loss: 1.7383 - val_acc: 0.3692\n",
            "Epoch 2/10\n",
            "50000/50000 [==============================] - 6s 126us/step - loss: 1.6885 - acc: 0.4006 - val_loss: 1.7422 - val_acc: 0.3900\n",
            "Epoch 3/10\n",
            "50000/50000 [==============================] - 6s 126us/step - loss: 1.6078 - acc: 0.4323 - val_loss: 1.5821 - val_acc: 0.4440\n",
            "Epoch 4/10\n",
            "50000/50000 [==============================] - 6s 125us/step - loss: 1.5542 - acc: 0.4535 - val_loss: 1.6157 - val_acc: 0.4246\n",
            "Epoch 5/10\n",
            "50000/50000 [==============================] - 7s 133us/step - loss: 1.5073 - acc: 0.4692 - val_loss: 1.6779 - val_acc: 0.3868\n",
            "Epoch 6/10\n",
            "50000/50000 [==============================] - 7s 141us/step - loss: 1.4727 - acc: 0.4820 - val_loss: 1.4861 - val_acc: 0.4720\n",
            "Epoch 7/10\n",
            "50000/50000 [==============================] - 6s 127us/step - loss: 1.4397 - acc: 0.4940 - val_loss: 1.5555 - val_acc: 0.4473\n",
            "Epoch 8/10\n",
            "50000/50000 [==============================] - 6s 126us/step - loss: 1.4128 - acc: 0.5052 - val_loss: 1.5002 - val_acc: 0.4705\n",
            "Epoch 9/10\n",
            "50000/50000 [==============================] - 6s 126us/step - loss: 1.3879 - acc: 0.5149 - val_loss: 1.4953 - val_acc: 0.4674\n",
            "Epoch 10/10\n",
            "50000/50000 [==============================] - 6s 127us/step - loss: 1.3644 - acc: 0.5207 - val_loss: 1.4418 - val_acc: 0.4882\n",
            "10000/10000 [==============================] - 0s 50us/step\n",
            "Test loss:  1.4418268886566161\n",
            "Test accuracy:  0.4882\n"
          ],
          "name": "stdout"
        }
      ]
    }
  ]
}